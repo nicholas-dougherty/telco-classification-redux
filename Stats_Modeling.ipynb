{
 "cells": [
  {
   "cell_type": "code",
   "execution_count": 106,
   "id": "87837289",
   "metadata": {},
   "outputs": [],
   "source": [
    "# The usual modular suspects\n",
    "import numpy as np\n",
    "import pandas as pd\n",
    "import matplotlib.pyplot as plt\n",
    "import seaborn as sns\n",
    "from scipy import stats\n",
    "import math\n",
    "\n",
    "# Of Mice & Machine Learning Mavericks\n",
    "from sklearn.model_selection import train_test_split, cross_val_score\n",
    "from sklearn.tree import DecisionTreeClassifier, plot_tree, export_text, export_graphviz\n",
    "from sklearn.metrics import classification_report, confusion_matrix, accuracy_score, ConfusionMatrixDisplay, mutual_info_score\n",
    "from sklearn.ensemble import RandomForestClassifier\n",
    "from sklearn.linear_model import LogisticRegression\n",
    "from sklearn.neighbors import KNeighborsClassifier\n",
    "from sklearn.preprocessing import StandardScaler\n",
    "from sklearn.metrics import accuracy_score, precision_score, recall_score\n",
    "\n",
    "import env\n",
    "import os\n",
    "from acquire import get_telco_data\n",
    "from prepare import prep_telco_data\n",
    "\n",
    "import warnings\n",
    "warnings.filterwarnings('ignore')"
   ]
  },
  {
   "cell_type": "code",
   "execution_count": 94,
   "id": "9f892d8c",
   "metadata": {},
   "outputs": [
    {
     "name": "stdout",
     "output_type": "stream",
     "text": [
      "Using cached csv\n"
     ]
    }
   ],
   "source": [
    "df = get_telco_data()"
   ]
  },
  {
   "cell_type": "code",
   "execution_count": 95,
   "id": "66795155",
   "metadata": {},
   "outputs": [],
   "source": [
    "train, validate, test = prep_telco_data(df)"
   ]
  },
  {
   "cell_type": "code",
   "execution_count": 80,
   "id": "ab416bff",
   "metadata": {},
   "outputs": [
    {
     "data": {
      "text/html": [
       "<div>\n",
       "<style scoped>\n",
       "    .dataframe tbody tr th:only-of-type {\n",
       "        vertical-align: middle;\n",
       "    }\n",
       "\n",
       "    .dataframe tbody tr th {\n",
       "        vertical-align: top;\n",
       "    }\n",
       "\n",
       "    .dataframe thead th {\n",
       "        text-align: right;\n",
       "    }\n",
       "</style>\n",
       "<table border=\"1\" class=\"dataframe\">\n",
       "  <thead>\n",
       "    <tr style=\"text-align: right;\">\n",
       "      <th></th>\n",
       "      <th>gender</th>\n",
       "      <th>senior_citizen</th>\n",
       "      <th>partner</th>\n",
       "      <th>dependents</th>\n",
       "      <th>tenure</th>\n",
       "      <th>phone_service</th>\n",
       "      <th>multiple_lines</th>\n",
       "      <th>online_security</th>\n",
       "      <th>online_backup</th>\n",
       "      <th>device_protection</th>\n",
       "      <th>...</th>\n",
       "      <th>enc_monthlycharges_group_76-100</th>\n",
       "      <th>enc_monthlycharges_group_&gt;100</th>\n",
       "      <th>enc_totalcharges_group_0-2k</th>\n",
       "      <th>enc_totalcharges_group_2k-4k</th>\n",
       "      <th>enc_totalcharges_group_&gt;6k</th>\n",
       "      <th>enc_tenure_months_1-6</th>\n",
       "      <th>enc_tenure_months_13-18</th>\n",
       "      <th>enc_tenure_months_7-12</th>\n",
       "      <th>monthly_charges</th>\n",
       "      <th>total_charges</th>\n",
       "    </tr>\n",
       "  </thead>\n",
       "  <tbody>\n",
       "    <tr>\n",
       "      <th>5919</th>\n",
       "      <td>Female</td>\n",
       "      <td>0</td>\n",
       "      <td>No</td>\n",
       "      <td>No</td>\n",
       "      <td>58</td>\n",
       "      <td>Yes</td>\n",
       "      <td>Yes</td>\n",
       "      <td>Yes</td>\n",
       "      <td>Yes</td>\n",
       "      <td>Yes</td>\n",
       "      <td>...</td>\n",
       "      <td>0</td>\n",
       "      <td>0</td>\n",
       "      <td>0</td>\n",
       "      <td>0</td>\n",
       "      <td>0</td>\n",
       "      <td>0</td>\n",
       "      <td>0</td>\n",
       "      <td>0</td>\n",
       "      <td>-0.787739</td>\n",
       "      <td>-0.302765</td>\n",
       "    </tr>\n",
       "    <tr>\n",
       "      <th>1915</th>\n",
       "      <td>Male</td>\n",
       "      <td>0</td>\n",
       "      <td>No</td>\n",
       "      <td>Yes</td>\n",
       "      <td>71</td>\n",
       "      <td>Yes</td>\n",
       "      <td>Yes</td>\n",
       "      <td>Yes</td>\n",
       "      <td>Yes</td>\n",
       "      <td>No</td>\n",
       "      <td>...</td>\n",
       "      <td>1</td>\n",
       "      <td>0</td>\n",
       "      <td>0</td>\n",
       "      <td>0</td>\n",
       "      <td>1</td>\n",
       "      <td>0</td>\n",
       "      <td>0</td>\n",
       "      <td>0</td>\n",
       "      <td>-1.472492</td>\n",
       "      <td>-0.973414</td>\n",
       "    </tr>\n",
       "    <tr>\n",
       "      <th>5054</th>\n",
       "      <td>Female</td>\n",
       "      <td>0</td>\n",
       "      <td>Yes</td>\n",
       "      <td>Yes</td>\n",
       "      <td>35</td>\n",
       "      <td>Yes</td>\n",
       "      <td>Yes</td>\n",
       "      <td>No internet service</td>\n",
       "      <td>No internet service</td>\n",
       "      <td>No internet service</td>\n",
       "      <td>...</td>\n",
       "      <td>0</td>\n",
       "      <td>0</td>\n",
       "      <td>1</td>\n",
       "      <td>0</td>\n",
       "      <td>0</td>\n",
       "      <td>0</td>\n",
       "      <td>0</td>\n",
       "      <td>0</td>\n",
       "      <td>1.003921</td>\n",
       "      <td>0.583382</td>\n",
       "    </tr>\n",
       "    <tr>\n",
       "      <th>2355</th>\n",
       "      <td>Male</td>\n",
       "      <td>0</td>\n",
       "      <td>Yes</td>\n",
       "      <td>Yes</td>\n",
       "      <td>1</td>\n",
       "      <td>Yes</td>\n",
       "      <td>No</td>\n",
       "      <td>No internet service</td>\n",
       "      <td>No internet service</td>\n",
       "      <td>No internet service</td>\n",
       "      <td>...</td>\n",
       "      <td>0</td>\n",
       "      <td>0</td>\n",
       "      <td>1</td>\n",
       "      <td>0</td>\n",
       "      <td>0</td>\n",
       "      <td>1</td>\n",
       "      <td>0</td>\n",
       "      <td>0</td>\n",
       "      <td>1.306409</td>\n",
       "      <td>1.258200</td>\n",
       "    </tr>\n",
       "    <tr>\n",
       "      <th>6279</th>\n",
       "      <td>Male</td>\n",
       "      <td>1</td>\n",
       "      <td>No</td>\n",
       "      <td>No</td>\n",
       "      <td>20</td>\n",
       "      <td>Yes</td>\n",
       "      <td>No</td>\n",
       "      <td>Yes</td>\n",
       "      <td>No</td>\n",
       "      <td>No</td>\n",
       "      <td>...</td>\n",
       "      <td>0</td>\n",
       "      <td>0</td>\n",
       "      <td>1</td>\n",
       "      <td>0</td>\n",
       "      <td>0</td>\n",
       "      <td>0</td>\n",
       "      <td>0</td>\n",
       "      <td>0</td>\n",
       "      <td>1.475935</td>\n",
       "      <td>2.394832</td>\n",
       "    </tr>\n",
       "  </tbody>\n",
       "</table>\n",
       "<p>5 rows × 57 columns</p>\n",
       "</div>"
      ],
      "text/plain": [
       "      gender  senior_citizen partner dependents  tenure phone_service  \\\n",
       "5919  Female               0      No         No      58           Yes   \n",
       "1915    Male               0      No        Yes      71           Yes   \n",
       "5054  Female               0     Yes        Yes      35           Yes   \n",
       "2355    Male               0     Yes        Yes       1           Yes   \n",
       "6279    Male               1      No         No      20           Yes   \n",
       "\n",
       "     multiple_lines      online_security        online_backup  \\\n",
       "5919            Yes                  Yes                  Yes   \n",
       "1915            Yes                  Yes                  Yes   \n",
       "5054            Yes  No internet service  No internet service   \n",
       "2355             No  No internet service  No internet service   \n",
       "6279             No                  Yes                   No   \n",
       "\n",
       "        device_protection  ... enc_monthlycharges_group_76-100  \\\n",
       "5919                  Yes  ...                               0   \n",
       "1915                   No  ...                               1   \n",
       "5054  No internet service  ...                               0   \n",
       "2355  No internet service  ...                               0   \n",
       "6279                   No  ...                               0   \n",
       "\n",
       "     enc_monthlycharges_group_>100 enc_totalcharges_group_0-2k  \\\n",
       "5919                             0                           0   \n",
       "1915                             0                           0   \n",
       "5054                             0                           1   \n",
       "2355                             0                           1   \n",
       "6279                             0                           1   \n",
       "\n",
       "     enc_totalcharges_group_2k-4k enc_totalcharges_group_>6k  \\\n",
       "5919                            0                          0   \n",
       "1915                            0                          1   \n",
       "5054                            0                          0   \n",
       "2355                            0                          0   \n",
       "6279                            0                          0   \n",
       "\n",
       "     enc_tenure_months_1-6 enc_tenure_months_13-18 enc_tenure_months_7-12  \\\n",
       "5919                     0                       0                      0   \n",
       "1915                     0                       0                      0   \n",
       "5054                     0                       0                      0   \n",
       "2355                     1                       0                      0   \n",
       "6279                     0                       0                      0   \n",
       "\n",
       "      monthly_charges  total_charges  \n",
       "5919        -0.787739      -0.302765  \n",
       "1915        -1.472492      -0.973414  \n",
       "5054         1.003921       0.583382  \n",
       "2355         1.306409       1.258200  \n",
       "6279         1.475935       2.394832  \n",
       "\n",
       "[5 rows x 57 columns]"
      ]
     },
     "execution_count": 80,
     "metadata": {},
     "output_type": "execute_result"
    }
   ],
   "source": [
    "train.head()"
   ]
  },
  {
   "cell_type": "code",
   "execution_count": 82,
   "id": "b9a6d015",
   "metadata": {},
   "outputs": [
    {
     "data": {
      "text/plain": [
       "(No     2891\n",
       " Yes    1046\n",
       " Name: churn, dtype: int64,\n",
       " No     0.734315\n",
       " Yes    0.265685\n",
       " Name: churn, dtype: float64)"
      ]
     },
     "execution_count": 82,
     "metadata": {},
     "output_type": "execute_result"
    }
   ],
   "source": [
    "train.churn.value_counts(), train.churn.value_counts(normalize = True)"
   ]
  },
  {
   "cell_type": "code",
   "execution_count": 83,
   "id": "b4628b47",
   "metadata": {},
   "outputs": [
    {
     "data": {
      "text/plain": [
       "No     2891\n",
       "Yes    1046\n",
       "Name: churn, dtype: int64"
      ]
     },
     "execution_count": 83,
     "metadata": {},
     "output_type": "execute_result"
    }
   ],
   "source": [
    "train.churn.value_counts()\n",
    "# just wanted to make sure the encoding went properly.\n",
    "# At present, I have no idea whether or not keeping both versions of churn will prove problematic. "
   ]
  },
  {
   "cell_type": "code",
   "execution_count": 117,
   "id": "8a02896b",
   "metadata": {},
   "outputs": [
    {
     "data": {
      "text/plain": [
       "No    3937\n",
       "dtype: int64"
      ]
     },
     "execution_count": 117,
     "metadata": {},
     "output_type": "execute_result"
    }
   ],
   "source": [
    "# Establish our baseline.  The rate at which the assumption of the majority class matches the real values.\n",
    "# If a model does not perform better than this, it would not be wise to deploy.\n",
    "\n",
    "#baseline = (y_train.value_counts().idxmax() == y_train).mean()\n",
    "#baseline\n",
    "\n",
    "baseline_accuracy = (train.churn == \"No\").mean()\n",
    "round(baseline_accuracy, 2)\n",
    "baseline = pd.Series(['No'] * train.shape[0])\n",
    "baseline.value_counts()"
   ]
  },
  {
   "cell_type": "code",
   "execution_count": 85,
   "id": "36f9736f",
   "metadata": {},
   "outputs": [
    {
     "data": {
      "text/plain": [
       "gender                              object\n",
       "senior_citizen                       int64\n",
       "partner                             object\n",
       "dependents                          object\n",
       "tenure                               int64\n",
       "phone_service                       object\n",
       "multiple_lines                      object\n",
       "online_security                     object\n",
       "online_backup                       object\n",
       "device_protection                   object\n",
       "tech_support                        object\n",
       "streaming_tv                        object\n",
       "streaming_movies                    object\n",
       "paperless_billing                   object\n",
       "churn                               object\n",
       "contract_type                       object\n",
       "internet_service_type               object\n",
       "payment_type                        object\n",
       "gender_encoded                       int64\n",
       "partner_encoded                      int64\n",
       "dependents_encoded                   int64\n",
       "phone_service_encoded                int64\n",
       "paperless_billing_encoded            int64\n",
       "churn_encoded                        int64\n",
       "multiple_lines_No                    uint8\n",
       "multiple_lines_Yes                   uint8\n",
       "online_security_No                   uint8\n",
       "online_security_Yes                  uint8\n",
       "online_backup_No                     uint8\n",
       "online_backup_Yes                    uint8\n",
       "device_protection_No                 uint8\n",
       "device_protection_Yes                uint8\n",
       "tech_support_No                      uint8\n",
       "tech_support_Yes                     uint8\n",
       "streaming_tv_No                      uint8\n",
       "streaming_tv_Yes                     uint8\n",
       "streaming_movies_No                  uint8\n",
       "streaming_movies_Yes                 uint8\n",
       "monthly                              uint8\n",
       "two_year_contract                    uint8\n",
       "fiber_optic                          uint8\n",
       "no_internet                          uint8\n",
       "auto_bank_transfer                   uint8\n",
       "auto_credit_card                     uint8\n",
       "electronic_check                     uint8\n",
       "enc_monthlycharges_group_26-50       uint8\n",
       "enc_monthlycharges_group_51-75       uint8\n",
       "enc_monthlycharges_group_76-100      uint8\n",
       "enc_monthlycharges_group_>100        uint8\n",
       "enc_totalcharges_group_0-2k          uint8\n",
       "enc_totalcharges_group_2k-4k         uint8\n",
       "enc_totalcharges_group_>6k           uint8\n",
       "enc_tenure_months_1-6                uint8\n",
       "enc_tenure_months_13-18              uint8\n",
       "enc_tenure_months_7-12               uint8\n",
       "monthly_charges                    float64\n",
       "total_charges                      float64\n",
       "dtype: object"
      ]
     },
     "execution_count": 85,
     "metadata": {},
     "output_type": "execute_result"
    }
   ],
   "source": [
    "train.dtypes"
   ]
  },
  {
   "cell_type": "markdown",
   "id": "1aa87f5e",
   "metadata": {},
   "source": [
    "The vibe so far: \n",
    "The most likely drivers of churn are customers who lack a contract, pay via electronic check, utilize fiber-optic services, lack additional services as internet users, and are in their first year with telco. Let's test these assumptions statistically. "
   ]
  },
  {
   "cell_type": "code",
   "execution_count": 86,
   "id": "b50145f1",
   "metadata": {},
   "outputs": [],
   "source": [
    "def central_limit_theorem_test(*args, n_clt: int = 30) -> bool:\n",
    "    '''\n",
    "    Given two or more subgroups from a dataset, determines whether or not we have large enough sample\n",
    "    sizes to use the central limit theorem to assume normal distribution.\n",
    "    '''\n",
    "\n",
    "    sample_sizes = [arg.size for arg in args]\n",
    "    return min(sample_sizes) >= n_clt\n",
    "\n",
    "def two_sample_ttest(\n",
    "    sample1: pd.core.series.Series,\n",
    "    sample2: pd.core.series.Series,\n",
    "    alpha: float = 0.05,\n",
    "    n_clt: int = 30,\n",
    "    alternative: str = 'two-sided'\n",
    ") -> None:\n",
    "    '''\n",
    "    Given two independent samples from a dataset, conducts a two sample t-test to compare means and outputs\n",
    "    the relevant information to the console.\n",
    "    Parameters\n",
    "    ----------\n",
    "    sample1 : Pandas Series\n",
    "        A pandas series containing an independent sample from a dataset. This sample should be independent\n",
    "        from sample2.\n",
    "    sample2 : Pandas Series\n",
    "        A pandas series containing an independent sample from a dataset. This sample should be independent\n",
    "        from sample1.\n",
    "    alpha : float, default 0.05\n",
    "        The alpha value (derived from the confidence level) to use when determining whether or not to\n",
    "        reject the null hypothesis.\n",
    "    n_clt : int, default 3\n",
    "        The minimum sample size required to use a parametric test. This parameter is used to determine\n",
    "        if the central limit theorem can be used to assume a normal distribution of data. If the sample\n",
    "        sizes are less than n_clt a non-parametric test will be used.\n",
    "    alternative : str, default 'two-sided'\n",
    "        The type of two sample t-test to perform. Possible values are 'two-sided', 'less', or 'greater',\n",
    "        where 'less' and 'greater' are one tail t-tests and 'two-sided' is a two tail t-test.\n",
    "    Returns\n",
    "    -------\n",
    "    None : Nothing is returned by this function. All relevant information is printed to the console.\n",
    "    Examples\n",
    "    --------\n",
    "    >>> import stats_util as su\n",
    "    >>> su.two_sample_ttest(sample1, sample2)\n",
    "    >>> su.two_sample_ttest(sample1, sample2, alpha = 0.01, n_clt = 50)\n",
    "    >>> su.two_sample_ttest(sample1, sample2, alternative = 'less')\n",
    "    '''\n",
    "\n",
    "    # Are the samples large enough to assume normal distribution?\n",
    "    normal_dist = central_limit_theorem_test(sample1, sample2, n_clt = n_clt)\n",
    "    print(f'Samples contain more than {n_clt} observations: {normal_dist}')\n",
    "\n",
    "    # if our samples are normally distributed use a parametric test\n",
    "    if normal_dist:\n",
    "        # Do the subgroups have equal variance?\n",
    "        equal_var = equal_var_test(sample1, sample2, alpha = alpha)\n",
    "        print(f'Samples have equal variances: {equal_var}')\n",
    "        print(f'Using parametric test...')\n",
    "        f, p = stats.ttest_ind(sample1, sample2, equal_var = equal_var, alternative = alternative)\n",
    "\n",
    "    # otherwise use a non-parametric test\n",
    "    else:\n",
    "        print(f'Using non-parametric test...')\n",
    "        f, p = stats.mannwhitneyu(sample1, sample2, alternative = alternative)\n",
    "\n",
    "    evaluate_hypothesis(p, alpha)\n",
    "    \n",
    "def equal_var_test(*args, alpha: float = 0.05) -> bool:\n",
    "    '''\n",
    "    Given two or more subgroups from a dataset, conducts a test of equal variance and returns whether or\n",
    "    not p is less than alpha.\n",
    "    '''\n",
    "\n",
    "    f, p = stats.levene(*args)\n",
    "    return evaluate_hypothesis(p, alpha, output = False)   "
   ]
  },
  {
   "cell_type": "code",
   "execution_count": null,
   "id": "4c901474",
   "metadata": {},
   "outputs": [],
   "source": []
  },
  {
   "cell_type": "markdown",
   "id": "a9cd5689",
   "metadata": {},
   "source": [
    "H0: Whether a customer is held on contract is not associated with their likelihood of churning.\n",
    "Ha: There is a direct relationship between being on contract versus paying month to month."
   ]
  },
  {
   "cell_type": "code",
   "execution_count": 87,
   "id": "127d82aa",
   "metadata": {},
   "outputs": [],
   "source": [
    "def chi2_test(data_for_category1, data_for_category2, alpha=.05):\n",
    "\n",
    "    '''\n",
    "    Given two subgroups from a dataset, conducts a chi-squared test for independence and outputs \n",
    "    the relevant information to the console. \n",
    "    Utilizes the method provided in the Codeup curriculum for conducting chi-squared test using\n",
    "    scipy and pandas. \n",
    "    '''\n",
    "    \n",
    "    # create dataframe of observed values\n",
    "    observed = pd.crosstab(data_for_category1, data_for_category2)\n",
    "    \n",
    "    # conduct test using scipy.stats.chi2_contingency() test\n",
    "    chi2, p, degf, expected = stats.chi2_contingency(observed)\n",
    "    \n",
    "    # round the expected values\n",
    "    expected = expected.round(1)\n",
    "    \n",
    "    # output\n",
    "    print('Observed\\n')\n",
    "    print(observed.values)\n",
    "    print('---\\nExpected\\n')\n",
    "    print(expected)\n",
    "    print('---\\n')\n",
    "    print(f'chi^2 = {chi2:.4f}')\n",
    "    print(f'p     = {p:.4f}')\n",
    "    \n",
    "    # evaluate the hypothesis against the established alpha value\n",
    "    evaluate_hypothesis(p, alpha)\n",
    "    \n",
    "def evaluate_hypothesis(p: float, alpha: float = 0.05, output: bool = True) -> bool:\n",
    "    '''\n",
    "    Compare the p value to the established alpha value to determine if the null hypothesis\n",
    "    should be rejected or not.\n",
    "    '''\n",
    "\n",
    "    if p < alpha:\n",
    "        if output:\n",
    "            print('\\nReject H0')\n",
    "        return False\n",
    "    else: \n",
    "        if output:\n",
    "            print('\\nFail to Reject H0')\n",
    "        return True"
   ]
  },
  {
   "cell_type": "code",
   "execution_count": 88,
   "id": "071ad374",
   "metadata": {},
   "outputs": [
    {
     "name": "stdout",
     "output_type": "stream",
     "text": [
      "Observed\n",
      "\n",
      "[[1238  726  927]\n",
      " [ 927   89   30]]\n",
      "---\n",
      "Expected\n",
      "\n",
      "[[1589.8  598.5  702.7]\n",
      " [ 575.2  216.5  254.3]]\n",
      "---\n",
      "\n",
      "chi^2 = 664.6572\n",
      "p     = 0.0000\n",
      "\n",
      "Reject H0\n"
     ]
    }
   ],
   "source": [
    "chi2_test(train.churn, train.contract_type)"
   ]
  },
  {
   "cell_type": "code",
   "execution_count": 12,
   "id": "3a97ef0e",
   "metadata": {},
   "outputs": [
    {
     "name": "stdout",
     "output_type": "stream",
     "text": [
      "Observed\n",
      "\n",
      "[[713 750 708 720]\n",
      " [149 145 581 171]]\n",
      "---\n",
      "Expected\n",
      "\n",
      "[[633.  657.2 946.5 654.3]\n",
      " [229.  237.8 342.5 236.7]]\n",
      "---\n",
      "\n",
      "chi^2 = 338.4852\n",
      "p     = 0.0000\n",
      "\n",
      "Reject H0\n"
     ]
    }
   ],
   "source": [
    "chi2_test(train.churn, train.payment_type)"
   ]
  },
  {
   "cell_type": "code",
   "execution_count": 13,
   "id": "5bc8017c",
   "metadata": {},
   "outputs": [
    {
     "name": "stdout",
     "output_type": "stream",
     "text": [
      "Observed\n",
      "\n",
      "[[1101  987  803]\n",
      " [ 247  735   64]]\n",
      "---\n",
      "Expected\n",
      "\n",
      "[[ 989.9 1264.5  636.7]\n",
      " [ 358.1  457.5  230.3]]\n",
      "---\n",
      "\n",
      "chi^2 = 439.7661\n",
      "p     = 0.0000\n",
      "\n",
      "Reject H0\n"
     ]
    }
   ],
   "source": [
    "chi2_test(train.churn, train.internet_service_type)"
   ]
  },
  {
   "cell_type": "markdown",
   "id": "5b9bd020",
   "metadata": {},
   "source": [
    "H0: Customers that churn do not have less tenure on average than customers that don't churn. \n",
    "Ha: Customers that churn have less tenure on average than customers that don't churn."
   ]
  },
  {
   "cell_type": "code",
   "execution_count": 21,
   "id": "697dacb4",
   "metadata": {},
   "outputs": [
    {
     "name": "stdout",
     "output_type": "stream",
     "text": [
      "Samples contain more than 30 observations: True\n",
      "Samples have equal variances: False\n",
      "Using parametric test...\n",
      "\n",
      "Reject H0\n"
     ]
    }
   ],
   "source": [
    "churned_customers = train[train.churn == 'Yes']\n",
    "current_customers = train[train.churn == 'No']\n",
    "\n",
    "two_sample_ttest(churned_customers.tenure, current_customers.tenure, alternative = 'less')"
   ]
  },
  {
   "cell_type": "code",
   "execution_count": 27,
   "id": "dbd64d05",
   "metadata": {},
   "outputs": [
    {
     "name": "stdout",
     "output_type": "stream",
     "text": [
      "Observed\n",
      "\n",
      "[[1099  803  989]\n",
      " [ 819   64  163]]\n",
      "---\n",
      "Expected\n",
      "\n",
      "[[1408.4  636.7  845.9]\n",
      " [ 509.6  230.3  306.1]]\n",
      "---\n",
      "\n",
      "chi^2 = 510.5206\n",
      "p     = 0.0000\n",
      "\n",
      "Reject H0\n"
     ]
    }
   ],
   "source": [
    "chi2_test(train.churn, train.online_security)"
   ]
  },
  {
   "cell_type": "code",
   "execution_count": 28,
   "id": "36000431",
   "metadata": {},
   "outputs": [
    {
     "name": "stdout",
     "output_type": "stream",
     "text": [
      "Observed\n",
      "\n",
      "[[1126  803  962]\n",
      " [ 805   64  177]]\n",
      "---\n",
      "Expected\n",
      "\n",
      "[[1418.   636.7  836.4]\n",
      " [ 513.   230.3  302.6]]\n",
      "---\n",
      "\n",
      "chi^2 = 460.8719\n",
      "p     = 0.0000\n",
      "\n",
      "Reject H0\n"
     ]
    }
   ],
   "source": [
    "chi2_test(train.churn, train.tech_support)"
   ]
  },
  {
   "cell_type": "code",
   "execution_count": 29,
   "id": "717e6d66",
   "metadata": {},
   "outputs": [
    {
     "name": "stdout",
     "output_type": "stream",
     "text": [
      "Observed\n",
      "\n",
      "[[1023  803 1065]\n",
      " [ 674   64  308]]\n",
      "---\n",
      "Expected\n",
      "\n",
      "[[1246.1  636.7 1008.2]\n",
      " [ 450.9  230.3  364.8]]\n",
      "---\n",
      "\n",
      "chi^2 = 326.0154\n",
      "p     = 0.0000\n",
      "\n",
      "Reject H0\n"
     ]
    }
   ],
   "source": [
    "chi2_test(train.churn, train.online_backup)"
   ]
  },
  {
   "cell_type": "code",
   "execution_count": 91,
   "id": "ad45efe7",
   "metadata": {},
   "outputs": [
    {
     "data": {
      "text/plain": [
       "gender                              object\n",
       "senior_citizen                       int64\n",
       "partner                             object\n",
       "dependents                          object\n",
       "tenure                               int64\n",
       "phone_service                       object\n",
       "multiple_lines                      object\n",
       "online_security                     object\n",
       "online_backup                       object\n",
       "device_protection                   object\n",
       "tech_support                        object\n",
       "streaming_tv                        object\n",
       "streaming_movies                    object\n",
       "paperless_billing                   object\n",
       "churn                               object\n",
       "contract_type                       object\n",
       "internet_service_type               object\n",
       "payment_type                        object\n",
       "gender_encoded                       int64\n",
       "partner_encoded                      int64\n",
       "dependents_encoded                   int64\n",
       "phone_service_encoded                int64\n",
       "paperless_billing_encoded            int64\n",
       "churn_encoded                        int64\n",
       "multiple_lines_No                    uint8\n",
       "multiple_lines_Yes                   uint8\n",
       "online_security_No                   uint8\n",
       "online_security_Yes                  uint8\n",
       "online_backup_No                     uint8\n",
       "online_backup_Yes                    uint8\n",
       "device_protection_No                 uint8\n",
       "device_protection_Yes                uint8\n",
       "tech_support_No                      uint8\n",
       "tech_support_Yes                     uint8\n",
       "streaming_tv_No                      uint8\n",
       "streaming_tv_Yes                     uint8\n",
       "streaming_movies_No                  uint8\n",
       "streaming_movies_Yes                 uint8\n",
       "monthly                              uint8\n",
       "two_year_contract                    uint8\n",
       "fiber_optic                          uint8\n",
       "no_internet                          uint8\n",
       "auto_bank_transfer                   uint8\n",
       "auto_credit_card                     uint8\n",
       "electronic_check                     uint8\n",
       "enc_monthlycharges_group_26-50       uint8\n",
       "enc_monthlycharges_group_51-75       uint8\n",
       "enc_monthlycharges_group_76-100      uint8\n",
       "enc_monthlycharges_group_>100        uint8\n",
       "enc_totalcharges_group_0-2k          uint8\n",
       "enc_totalcharges_group_2k-4k         uint8\n",
       "enc_totalcharges_group_>6k           uint8\n",
       "enc_tenure_months_1-6                uint8\n",
       "enc_tenure_months_13-18              uint8\n",
       "enc_tenure_months_7-12               uint8\n",
       "monthly_charges                    float64\n",
       "total_charges                      float64\n",
       "dtype: object"
      ]
     },
     "execution_count": 91,
     "metadata": {},
     "output_type": "execute_result"
    }
   ],
   "source": [
    "train.dtypes"
   ]
  },
  {
   "cell_type": "code",
   "execution_count": 100,
   "id": "4359ca4c",
   "metadata": {},
   "outputs": [],
   "source": [
    "# Modeling\n",
    "#switching to churn encoded from this point on. \n",
    "features = [\n",
    "    'monthly', 'two_year_contract', 'fiber_optic', 'electronic_check',\n",
    "    'enc_tenure_months_1-6', 'enc_tenure_months_7-12', 'enc_tenure_months_13-18',\n",
    "    'auto_credit_card', 'auto_bank_transfer', 'no_internet',\n",
    "    'online_security_No', 'online_security_Yes', 'online_backup_No', 'online_backup_Yes',\n",
    "    'device_protection_No', 'device_protection_Yes', 'tech_support_No', 'tech_support_Yes'   \n",
    "]\n",
    "\n",
    "X_train, y_train = train[features], train.churn\n",
    "X_validate, y_validate = validate[features], validate.churn"
   ]
  },
  {
   "cell_type": "code",
   "execution_count": 101,
   "id": "ddd4b485",
   "metadata": {},
   "outputs": [
    {
     "data": {
      "text/plain": [
       "DecisionTreeClassifier(max_depth=5, random_state=123)"
      ]
     },
     "execution_count": 101,
     "metadata": {},
     "output_type": "execute_result"
    }
   ],
   "source": [
    "# Decision Tree\n",
    "\n",
    "# We'll try a max_depth of 5 so we can get good results without overfitting\n",
    "model_1 = DecisionTreeClassifier(max_depth = 5, random_state = 123)\n",
    "model_1.fit(X_train, y_train)"
   ]
  },
  {
   "cell_type": "code",
   "execution_count": 130,
   "id": "8ddac7b4",
   "metadata": {},
   "outputs": [
    {
     "data": {
      "text/plain": [
       "DecisionTreeClassifier(criterion='entropy', max_depth=6, min_samples_split=30)"
      ]
     },
     "execution_count": 130,
     "metadata": {},
     "output_type": "execute_result"
    }
   ],
   "source": [
    "model_1_2 = DecisionTreeClassifier(criterion = 'entropy', max_depth = 6, min_samples_leaf = 1, min_samples_split = 30)\n",
    "model_1_2.fit(X_train, y_train)"
   ]
  },
  {
   "cell_type": "code",
   "execution_count": null,
   "id": "8cdc39d4",
   "metadata": {},
   "outputs": [],
   "source": [
    "DecisionTreeClassifier()"
   ]
  },
  {
   "cell_type": "code",
   "execution_count": 131,
   "id": "a2fc24a0",
   "metadata": {},
   "outputs": [],
   "source": [
    "y_pred_model_1_2 = model_1_2.predict(X_train)"
   ]
  },
  {
   "cell_type": "code",
   "execution_count": 102,
   "id": "91483d5c",
   "metadata": {},
   "outputs": [
    {
     "data": {
      "text/plain": [
       "No     3272\n",
       "Yes     665\n",
       "dtype: int64"
      ]
     },
     "execution_count": 102,
     "metadata": {},
     "output_type": "execute_result"
    }
   ],
   "source": [
    "# Let's see the predictions our model makes\n",
    "y_pred_model_1 = model_1.predict(X_train)\n",
    "pd.Series(y_pred_model_1).value_counts()"
   ]
  },
  {
   "cell_type": "code",
   "execution_count": 132,
   "id": "2542f56b",
   "metadata": {},
   "outputs": [
    {
     "data": {
      "text/html": [
       "<div>\n",
       "<style scoped>\n",
       "    .dataframe tbody tr th:only-of-type {\n",
       "        vertical-align: middle;\n",
       "    }\n",
       "\n",
       "    .dataframe tbody tr th {\n",
       "        vertical-align: top;\n",
       "    }\n",
       "\n",
       "    .dataframe thead th {\n",
       "        text-align: right;\n",
       "    }\n",
       "</style>\n",
       "<table border=\"1\" class=\"dataframe\">\n",
       "  <thead>\n",
       "    <tr style=\"text-align: right;\">\n",
       "      <th></th>\n",
       "      <th>accuracy</th>\n",
       "      <th>precision</th>\n",
       "      <th>recall</th>\n",
       "    </tr>\n",
       "    <tr>\n",
       "      <th>model</th>\n",
       "      <th></th>\n",
       "      <th></th>\n",
       "      <th></th>\n",
       "    </tr>\n",
       "  </thead>\n",
       "  <tbody>\n",
       "    <tr>\n",
       "      <th>0</th>\n",
       "      <td>0.734315</td>\n",
       "      <td>0.000000</td>\n",
       "      <td>0.000000</td>\n",
       "    </tr>\n",
       "    <tr>\n",
       "      <th>1</th>\n",
       "      <td>0.806198</td>\n",
       "      <td>0.653304</td>\n",
       "      <td>0.576482</td>\n",
       "    </tr>\n",
       "  </tbody>\n",
       "</table>\n",
       "</div>"
      ],
      "text/plain": [
       "       accuracy  precision    recall\n",
       "model                               \n",
       "0      0.734315   0.000000  0.000000\n",
       "1      0.806198   0.653304  0.576482"
      ]
     },
     "execution_count": 132,
     "metadata": {},
     "output_type": "execute_result"
    }
   ],
   "source": [
    "measure_model_performance(y_train, baseline, y_pred_model_1_2, positive_label = 'Yes')"
   ]
  },
  {
   "cell_type": "code",
   "execution_count": 104,
   "id": "a5522293",
   "metadata": {},
   "outputs": [],
   "source": [
    "def measure_model_performance(y_true: pd.core.series.Series, *y_pred, positive_label = 1, labels = None) -> pd.core.frame.DataFrame:\n",
    "    '''\n",
    "        Returns a dataframe containing the accuracy, precision,\n",
    "        and recall scores for the model predictions provided.\n",
    "        Parameters\n",
    "        ----------\n",
    "        y_true: Series\n",
    "            A pandas series containing the true values for the\n",
    "            target variable being predicted.\n",
    "        *y_pred: Series or Array\n",
    "            One or more pandas series or numpy arrays containing\n",
    "            the predictions for the target variable.\n",
    "        positive_label: int or string, default 1\n",
    "            The positive value for the target variable.\n",
    "        labels: list of strings, default None\n",
    "            The labels to use as the name for each model. If not\n",
    "            provided the default will be a numeric index starting\n",
    "            from 0.\n",
    "        Returns\n",
    "        -------\n",
    "        DataFrame: A pandas dataframe containing the accuracy,\n",
    "            precision, and recall scores for each set of predictions\n",
    "            provided in y_pred.\n",
    "    '''\n",
    "\n",
    "    scores = []\n",
    "    \n",
    "    for index, predictions in enumerate(y_pred):\n",
    "        scores.append({\n",
    "            'model' : index if not labels else labels[index],\n",
    "            'accuracy' : accuracy_score(y_true, predictions),\n",
    "            'precision' : precision_score(y_true, predictions, pos_label = positive_label, zero_division = 0),\n",
    "            'recall' : recall_score(y_true, predictions, pos_label = positive_label, zero_division = 0)\n",
    "        })\n",
    "        \n",
    "    df = pd.DataFrame(scores)\n",
    "    return df.set_index('model')"
   ]
  },
  {
   "cell_type": "code",
   "execution_count": 107,
   "id": "b20e5ac9",
   "metadata": {},
   "outputs": [
    {
     "data": {
      "text/html": [
       "<div>\n",
       "<style scoped>\n",
       "    .dataframe tbody tr th:only-of-type {\n",
       "        vertical-align: middle;\n",
       "    }\n",
       "\n",
       "    .dataframe tbody tr th {\n",
       "        vertical-align: top;\n",
       "    }\n",
       "\n",
       "    .dataframe thead th {\n",
       "        text-align: right;\n",
       "    }\n",
       "</style>\n",
       "<table border=\"1\" class=\"dataframe\">\n",
       "  <thead>\n",
       "    <tr style=\"text-align: right;\">\n",
       "      <th></th>\n",
       "      <th>accuracy</th>\n",
       "      <th>precision</th>\n",
       "      <th>recall</th>\n",
       "    </tr>\n",
       "    <tr>\n",
       "      <th>model</th>\n",
       "      <th></th>\n",
       "      <th></th>\n",
       "      <th></th>\n",
       "    </tr>\n",
       "  </thead>\n",
       "  <tbody>\n",
       "    <tr>\n",
       "      <th>0</th>\n",
       "      <td>0.734315</td>\n",
       "      <td>0.000000</td>\n",
       "      <td>0.000000</td>\n",
       "    </tr>\n",
       "    <tr>\n",
       "      <th>1</th>\n",
       "      <td>0.798070</td>\n",
       "      <td>0.688722</td>\n",
       "      <td>0.437859</td>\n",
       "    </tr>\n",
       "  </tbody>\n",
       "</table>\n",
       "</div>"
      ],
      "text/plain": [
       "       accuracy  precision    recall\n",
       "model                               \n",
       "0      0.734315   0.000000  0.000000\n",
       "1      0.798070   0.688722  0.437859"
      ]
     },
     "execution_count": 107,
     "metadata": {},
     "output_type": "execute_result"
    }
   ],
   "source": [
    "measure_model_performance(y_train, baseline, y_pred_model_1, positive_label = 'Yes')"
   ]
  },
  {
   "cell_type": "code",
   "execution_count": null,
   "id": "dc84afe9",
   "metadata": {},
   "outputs": [],
   "source": []
  },
  {
   "cell_type": "code",
   "execution_count": 109,
   "id": "591cf2a3",
   "metadata": {},
   "outputs": [
    {
     "data": {
      "text/plain": [
       "RandomForestClassifier(max_depth=5, random_state=123)"
      ]
     },
     "execution_count": 109,
     "metadata": {},
     "output_type": "execute_result"
    }
   ],
   "source": [
    "# Random Forest\n",
    "\n",
    "# We'll try a max_depth of five\n",
    "model_2 = RandomForestClassifier(max_depth = 5, random_state = 123)\n",
    "model_2.fit(X_train, y_train)"
   ]
  },
  {
   "cell_type": "code",
   "execution_count": 110,
   "id": "80ebf705",
   "metadata": {},
   "outputs": [
    {
     "data": {
      "text/plain": [
       "No     3207\n",
       "Yes     730\n",
       "dtype: int64"
      ]
     },
     "execution_count": 110,
     "metadata": {},
     "output_type": "execute_result"
    }
   ],
   "source": [
    "# Let's see the predictions our model makes\n",
    "y_pred_model_2 = model_2.predict(X_train)\n",
    "pd.Series(y_pred_model_2).value_counts()"
   ]
  },
  {
   "cell_type": "code",
   "execution_count": 111,
   "id": "f05cb6a1",
   "metadata": {},
   "outputs": [
    {
     "data": {
      "text/html": [
       "<div>\n",
       "<style scoped>\n",
       "    .dataframe tbody tr th:only-of-type {\n",
       "        vertical-align: middle;\n",
       "    }\n",
       "\n",
       "    .dataframe tbody tr th {\n",
       "        vertical-align: top;\n",
       "    }\n",
       "\n",
       "    .dataframe thead th {\n",
       "        text-align: right;\n",
       "    }\n",
       "</style>\n",
       "<table border=\"1\" class=\"dataframe\">\n",
       "  <thead>\n",
       "    <tr style=\"text-align: right;\">\n",
       "      <th></th>\n",
       "      <th>accuracy</th>\n",
       "      <th>precision</th>\n",
       "      <th>recall</th>\n",
       "    </tr>\n",
       "    <tr>\n",
       "      <th>model</th>\n",
       "      <th></th>\n",
       "      <th></th>\n",
       "      <th></th>\n",
       "    </tr>\n",
       "  </thead>\n",
       "  <tbody>\n",
       "    <tr>\n",
       "      <th>0</th>\n",
       "      <td>0.734315</td>\n",
       "      <td>0.000000</td>\n",
       "      <td>0.000000</td>\n",
       "    </tr>\n",
       "    <tr>\n",
       "      <th>1</th>\n",
       "      <td>0.798070</td>\n",
       "      <td>0.688722</td>\n",
       "      <td>0.437859</td>\n",
       "    </tr>\n",
       "    <tr>\n",
       "      <th>2</th>\n",
       "      <td>0.800356</td>\n",
       "      <td>0.678082</td>\n",
       "      <td>0.473231</td>\n",
       "    </tr>\n",
       "  </tbody>\n",
       "</table>\n",
       "</div>"
      ],
      "text/plain": [
       "       accuracy  precision    recall\n",
       "model                               \n",
       "0      0.734315   0.000000  0.000000\n",
       "1      0.798070   0.688722  0.437859\n",
       "2      0.800356   0.678082  0.473231"
      ]
     },
     "execution_count": 111,
     "metadata": {},
     "output_type": "execute_result"
    }
   ],
   "source": [
    "# Now let's measure the performance of this model\n",
    "measure_model_performance(y_train, baseline, y_pred_model_1, y_pred_model_2, positive_label = 'Yes')"
   ]
  },
  {
   "cell_type": "code",
   "execution_count": 112,
   "id": "250d570b",
   "metadata": {},
   "outputs": [
    {
     "data": {
      "text/plain": [
       "KNeighborsClassifier(n_neighbors=10)"
      ]
     },
     "execution_count": 112,
     "metadata": {},
     "output_type": "execute_result"
    }
   ],
   "source": [
    "# K Nearest Neighbors\n",
    "\n",
    "model_3 = KNeighborsClassifier(n_neighbors = 10, weights = 'uniform')\n",
    "model_3.fit(X_train, y_train)"
   ]
  },
  {
   "cell_type": "code",
   "execution_count": 113,
   "id": "7ce36d48",
   "metadata": {},
   "outputs": [
    {
     "data": {
      "text/plain": [
       "No     3167\n",
       "Yes     770\n",
       "dtype: int64"
      ]
     },
     "execution_count": 113,
     "metadata": {},
     "output_type": "execute_result"
    }
   ],
   "source": [
    "y_pred_model_3 = model_3.predict(X_train)\n",
    "pd.Series(y_pred_model_3).value_counts()"
   ]
  },
  {
   "cell_type": "code",
   "execution_count": 114,
   "id": "422c3ccd",
   "metadata": {},
   "outputs": [
    {
     "data": {
      "text/html": [
       "<div>\n",
       "<style scoped>\n",
       "    .dataframe tbody tr th:only-of-type {\n",
       "        vertical-align: middle;\n",
       "    }\n",
       "\n",
       "    .dataframe tbody tr th {\n",
       "        vertical-align: top;\n",
       "    }\n",
       "\n",
       "    .dataframe thead th {\n",
       "        text-align: right;\n",
       "    }\n",
       "</style>\n",
       "<table border=\"1\" class=\"dataframe\">\n",
       "  <thead>\n",
       "    <tr style=\"text-align: right;\">\n",
       "      <th></th>\n",
       "      <th>accuracy</th>\n",
       "      <th>precision</th>\n",
       "      <th>recall</th>\n",
       "    </tr>\n",
       "    <tr>\n",
       "      <th>model</th>\n",
       "      <th></th>\n",
       "      <th></th>\n",
       "      <th></th>\n",
       "    </tr>\n",
       "  </thead>\n",
       "  <tbody>\n",
       "    <tr>\n",
       "      <th>0</th>\n",
       "      <td>0.734315</td>\n",
       "      <td>0.000000</td>\n",
       "      <td>0.000000</td>\n",
       "    </tr>\n",
       "    <tr>\n",
       "      <th>1</th>\n",
       "      <td>0.798070</td>\n",
       "      <td>0.688722</td>\n",
       "      <td>0.437859</td>\n",
       "    </tr>\n",
       "    <tr>\n",
       "      <th>2</th>\n",
       "      <td>0.800356</td>\n",
       "      <td>0.678082</td>\n",
       "      <td>0.473231</td>\n",
       "    </tr>\n",
       "    <tr>\n",
       "      <th>3</th>\n",
       "      <td>0.800864</td>\n",
       "      <td>0.670130</td>\n",
       "      <td>0.493308</td>\n",
       "    </tr>\n",
       "  </tbody>\n",
       "</table>\n",
       "</div>"
      ],
      "text/plain": [
       "       accuracy  precision    recall\n",
       "model                               \n",
       "0      0.734315   0.000000  0.000000\n",
       "1      0.798070   0.688722  0.437859\n",
       "2      0.800356   0.678082  0.473231\n",
       "3      0.800864   0.670130  0.493308"
      ]
     },
     "execution_count": 114,
     "metadata": {},
     "output_type": "execute_result"
    }
   ],
   "source": [
    "measure_model_performance(\n",
    "    y_train,\n",
    "    baseline,\n",
    "    y_pred_model_1,\n",
    "    y_pred_model_2,\n",
    "    y_pred_model_3,\n",
    "    positive_label = 'Yes'\n",
    ")"
   ]
  },
  {
   "cell_type": "code",
   "execution_count": 125,
   "id": "724315f1",
   "metadata": {},
   "outputs": [],
   "source": [
    "# measure_model_performance(\n",
    "#     y_validate,\n",
    "#     baseline_prediction(y_validate),\n",
    "#     model_1.predict(X_validate),\n",
    "#     model_2.predict(X_validate),\n",
    "#     model_3.predict(X_validate),\n",
    "#     positive_label = 'Yes'\n",
    "# )"
   ]
  },
  {
   "cell_type": "code",
   "execution_count": 120,
   "id": "f992c501",
   "metadata": {},
   "outputs": [],
   "source": [
    "# y_pred = baseline_pred = pd.Series([train['churn'].mode()[0]]).repeat(len(train))"
   ]
  },
  {
   "cell_type": "code",
   "execution_count": 153,
   "id": "4910353a",
   "metadata": {},
   "outputs": [
    {
     "data": {
      "text/plain": [
       "KNeighborsClassifier(n_neighbors=7)"
      ]
     },
     "execution_count": 153,
     "metadata": {},
     "output_type": "execute_result"
    }
   ],
   "source": [
    "knn1 = KNeighborsClassifier(n_neighbors = 7)\n",
    "#Fir training set to our classifying object\n",
    "knn1.fit(X_train, y_train)"
   ]
  },
  {
   "cell_type": "code",
   "execution_count": 154,
   "id": "2ff69181",
   "metadata": {},
   "outputs": [
    {
     "data": {
      "text/html": [
       "<div>\n",
       "<style scoped>\n",
       "    .dataframe tbody tr th:only-of-type {\n",
       "        vertical-align: middle;\n",
       "    }\n",
       "\n",
       "    .dataframe tbody tr th {\n",
       "        vertical-align: top;\n",
       "    }\n",
       "\n",
       "    .dataframe thead th {\n",
       "        text-align: right;\n",
       "    }\n",
       "</style>\n",
       "<table border=\"1\" class=\"dataframe\">\n",
       "  <thead>\n",
       "    <tr style=\"text-align: right;\">\n",
       "      <th></th>\n",
       "      <th>accuracy</th>\n",
       "      <th>precision</th>\n",
       "      <th>recall</th>\n",
       "    </tr>\n",
       "    <tr>\n",
       "      <th>model</th>\n",
       "      <th></th>\n",
       "      <th></th>\n",
       "      <th></th>\n",
       "    </tr>\n",
       "  </thead>\n",
       "  <tbody>\n",
       "    <tr>\n",
       "      <th>0</th>\n",
       "      <td>0.734315</td>\n",
       "      <td>0.000000</td>\n",
       "      <td>0.000000</td>\n",
       "    </tr>\n",
       "    <tr>\n",
       "      <th>1</th>\n",
       "      <td>0.810262</td>\n",
       "      <td>0.671642</td>\n",
       "      <td>0.559273</td>\n",
       "    </tr>\n",
       "  </tbody>\n",
       "</table>\n",
       "</div>"
      ],
      "text/plain": [
       "       accuracy  precision    recall\n",
       "model                               \n",
       "0      0.734315   0.000000  0.000000\n",
       "1      0.810262   0.671642  0.559273"
      ]
     },
     "execution_count": 154,
     "metadata": {},
     "output_type": "execute_result"
    }
   ],
   "source": [
    "#assign predictions to variables\n",
    "y_pred_knn1 = knn1.predict(X_train)\n",
    "\n",
    "measure_model_performance(y_train, baseline, y_pred_knn1, positive_label = 'Yes')"
   ]
  },
  {
   "cell_type": "code",
   "execution_count": 155,
   "id": "972ebd4c",
   "metadata": {},
   "outputs": [
    {
     "data": {
      "text/plain": [
       "0.810261620523241"
      ]
     },
     "execution_count": 155,
     "metadata": {},
     "output_type": "execute_result"
    }
   ],
   "source": [
    "knn1.score(X_train, y_train)"
   ]
  },
  {
   "cell_type": "code",
   "execution_count": null,
   "id": "2477f016",
   "metadata": {},
   "outputs": [],
   "source": []
  },
  {
   "cell_type": "code",
   "execution_count": 162,
   "id": "6fb578ae",
   "metadata": {},
   "outputs": [
    {
     "ename": "TypeError",
     "evalue": "'<' not supported between instances of 'str' and 'int'",
     "output_type": "error",
     "traceback": [
      "\u001b[0;31m---------------------------------------------------------------------------\u001b[0m",
      "\u001b[0;31mTypeError\u001b[0m                                 Traceback (most recent call last)",
      "\u001b[0;32m/usr/local/anaconda3/lib/python3.9/site-packages/numpy/core/fromnumeric.py\u001b[0m in \u001b[0;36m_wrapfunc\u001b[0;34m(obj, method, *args, **kwds)\u001b[0m\n\u001b[1;32m     57\u001b[0m     \u001b[0;32mtry\u001b[0m\u001b[0;34m:\u001b[0m\u001b[0;34m\u001b[0m\u001b[0;34m\u001b[0m\u001b[0m\n\u001b[0;32m---> 58\u001b[0;31m         \u001b[0;32mreturn\u001b[0m \u001b[0mbound\u001b[0m\u001b[0;34m(\u001b[0m\u001b[0;34m*\u001b[0m\u001b[0margs\u001b[0m\u001b[0;34m,\u001b[0m \u001b[0;34m**\u001b[0m\u001b[0mkwds\u001b[0m\u001b[0;34m)\u001b[0m\u001b[0;34m\u001b[0m\u001b[0;34m\u001b[0m\u001b[0m\n\u001b[0m\u001b[1;32m     59\u001b[0m     \u001b[0;32mexcept\u001b[0m \u001b[0mTypeError\u001b[0m\u001b[0;34m:\u001b[0m\u001b[0;34m\u001b[0m\u001b[0;34m\u001b[0m\u001b[0m\n",
      "\u001b[0;31mTypeError\u001b[0m: '<' not supported between instances of 'str' and 'int'",
      "\nDuring handling of the above exception, another exception occurred:\n",
      "\u001b[0;31mTypeError\u001b[0m                                 Traceback (most recent call last)",
      "\u001b[0;32m/var/folders/qn/sd1_3x2j4196db03067vql600000gn/T/ipykernel_11220/2248443875.py\u001b[0m in \u001b[0;36m<module>\u001b[0;34m\u001b[0m\n\u001b[1;32m      2\u001b[0m \u001b[0mlogreg\u001b[0m \u001b[0;34m=\u001b[0m \u001b[0mLogisticRegression\u001b[0m\u001b[0;34m(\u001b[0m\u001b[0mC\u001b[0m\u001b[0;34m=\u001b[0m\u001b[0;36m1\u001b[0m\u001b[0;34m,\u001b[0m \u001b[0mclass_weight\u001b[0m\u001b[0;34m=\u001b[0m\u001b[0;34m{\u001b[0m\u001b[0;36m0\u001b[0m\u001b[0;34m:\u001b[0m\u001b[0;36m1\u001b[0m\u001b[0;34m,\u001b[0m \u001b[0;36m1\u001b[0m\u001b[0;34m:\u001b[0m\u001b[0;36m99\u001b[0m\u001b[0;34m}\u001b[0m\u001b[0;34m,\u001b[0m \u001b[0mrandom_state\u001b[0m\u001b[0;34m=\u001b[0m\u001b[0;36m123\u001b[0m\u001b[0;34m,\u001b[0m \u001b[0mintercept_scaling\u001b[0m\u001b[0;34m=\u001b[0m\u001b[0;36m1\u001b[0m\u001b[0;34m,\u001b[0m \u001b[0msolver\u001b[0m\u001b[0;34m=\u001b[0m\u001b[0;34m'lbfgs'\u001b[0m\u001b[0;34m)\u001b[0m\u001b[0;34m\u001b[0m\u001b[0;34m\u001b[0m\u001b[0m\n\u001b[1;32m      3\u001b[0m \u001b[0;31m# Fit the model to our X and y training sets\u001b[0m\u001b[0;34m\u001b[0m\u001b[0;34m\u001b[0m\u001b[0m\n\u001b[0;32m----> 4\u001b[0;31m \u001b[0mlogreg\u001b[0m\u001b[0;34m.\u001b[0m\u001b[0mfit\u001b[0m\u001b[0;34m(\u001b[0m\u001b[0mX_train\u001b[0m\u001b[0;34m,\u001b[0m \u001b[0my_train\u001b[0m\u001b[0;34m)\u001b[0m\u001b[0;34m\u001b[0m\u001b[0;34m\u001b[0m\u001b[0m\n\u001b[0m\u001b[1;32m      5\u001b[0m \u001b[0;34m\u001b[0m\u001b[0m\n\u001b[1;32m      6\u001b[0m \u001b[0mprint\u001b[0m\u001b[0;34m(\u001b[0m\u001b[0;34m'Coefficient: \\n'\u001b[0m\u001b[0;34m,\u001b[0m \u001b[0mlogit\u001b[0m\u001b[0;34m.\u001b[0m\u001b[0mcoef_\u001b[0m\u001b[0;34m)\u001b[0m\u001b[0;34m\u001b[0m\u001b[0;34m\u001b[0m\u001b[0m\n",
      "\u001b[0;32m/usr/local/anaconda3/lib/python3.9/site-packages/sklearn/linear_model/_logistic.py\u001b[0m in \u001b[0;36mfit\u001b[0;34m(self, X, y, sample_weight)\u001b[0m\n\u001b[1;32m   1404\u001b[0m         \u001b[0;32melse\u001b[0m\u001b[0;34m:\u001b[0m\u001b[0;34m\u001b[0m\u001b[0;34m\u001b[0m\u001b[0m\n\u001b[1;32m   1405\u001b[0m             \u001b[0mprefer\u001b[0m \u001b[0;34m=\u001b[0m \u001b[0;34m'processes'\u001b[0m\u001b[0;34m\u001b[0m\u001b[0;34m\u001b[0m\u001b[0m\n\u001b[0;32m-> 1406\u001b[0;31m         fold_coefs_ = Parallel(n_jobs=self.n_jobs, verbose=self.verbose,\n\u001b[0m\u001b[1;32m   1407\u001b[0m                                \u001b[0;34m**\u001b[0m\u001b[0m_joblib_parallel_args\u001b[0m\u001b[0;34m(\u001b[0m\u001b[0mprefer\u001b[0m\u001b[0;34m=\u001b[0m\u001b[0mprefer\u001b[0m\u001b[0;34m)\u001b[0m\u001b[0;34m)\u001b[0m\u001b[0;34m(\u001b[0m\u001b[0;34m\u001b[0m\u001b[0;34m\u001b[0m\u001b[0m\n\u001b[1;32m   1408\u001b[0m             path_func(X, y, pos_class=class_, Cs=[C_],\n",
      "\u001b[0;32m/usr/local/anaconda3/lib/python3.9/site-packages/joblib/parallel.py\u001b[0m in \u001b[0;36m__call__\u001b[0;34m(self, iterable)\u001b[0m\n\u001b[1;32m   1041\u001b[0m             \u001b[0;31m# remaining jobs.\u001b[0m\u001b[0;34m\u001b[0m\u001b[0;34m\u001b[0m\u001b[0m\n\u001b[1;32m   1042\u001b[0m             \u001b[0mself\u001b[0m\u001b[0;34m.\u001b[0m\u001b[0m_iterating\u001b[0m \u001b[0;34m=\u001b[0m \u001b[0;32mFalse\u001b[0m\u001b[0;34m\u001b[0m\u001b[0;34m\u001b[0m\u001b[0m\n\u001b[0;32m-> 1043\u001b[0;31m             \u001b[0;32mif\u001b[0m \u001b[0mself\u001b[0m\u001b[0;34m.\u001b[0m\u001b[0mdispatch_one_batch\u001b[0m\u001b[0;34m(\u001b[0m\u001b[0miterator\u001b[0m\u001b[0;34m)\u001b[0m\u001b[0;34m:\u001b[0m\u001b[0;34m\u001b[0m\u001b[0;34m\u001b[0m\u001b[0m\n\u001b[0m\u001b[1;32m   1044\u001b[0m                 \u001b[0mself\u001b[0m\u001b[0;34m.\u001b[0m\u001b[0m_iterating\u001b[0m \u001b[0;34m=\u001b[0m \u001b[0mself\u001b[0m\u001b[0;34m.\u001b[0m\u001b[0m_original_iterator\u001b[0m \u001b[0;32mis\u001b[0m \u001b[0;32mnot\u001b[0m \u001b[0;32mNone\u001b[0m\u001b[0;34m\u001b[0m\u001b[0;34m\u001b[0m\u001b[0m\n\u001b[1;32m   1045\u001b[0m \u001b[0;34m\u001b[0m\u001b[0m\n",
      "\u001b[0;32m/usr/local/anaconda3/lib/python3.9/site-packages/joblib/parallel.py\u001b[0m in \u001b[0;36mdispatch_one_batch\u001b[0;34m(self, iterator)\u001b[0m\n\u001b[1;32m    859\u001b[0m                 \u001b[0;32mreturn\u001b[0m \u001b[0;32mFalse\u001b[0m\u001b[0;34m\u001b[0m\u001b[0;34m\u001b[0m\u001b[0m\n\u001b[1;32m    860\u001b[0m             \u001b[0;32melse\u001b[0m\u001b[0;34m:\u001b[0m\u001b[0;34m\u001b[0m\u001b[0;34m\u001b[0m\u001b[0m\n\u001b[0;32m--> 861\u001b[0;31m                 \u001b[0mself\u001b[0m\u001b[0;34m.\u001b[0m\u001b[0m_dispatch\u001b[0m\u001b[0;34m(\u001b[0m\u001b[0mtasks\u001b[0m\u001b[0;34m)\u001b[0m\u001b[0;34m\u001b[0m\u001b[0;34m\u001b[0m\u001b[0m\n\u001b[0m\u001b[1;32m    862\u001b[0m                 \u001b[0;32mreturn\u001b[0m \u001b[0;32mTrue\u001b[0m\u001b[0;34m\u001b[0m\u001b[0;34m\u001b[0m\u001b[0m\n\u001b[1;32m    863\u001b[0m \u001b[0;34m\u001b[0m\u001b[0m\n",
      "\u001b[0;32m/usr/local/anaconda3/lib/python3.9/site-packages/joblib/parallel.py\u001b[0m in \u001b[0;36m_dispatch\u001b[0;34m(self, batch)\u001b[0m\n\u001b[1;32m    777\u001b[0m         \u001b[0;32mwith\u001b[0m \u001b[0mself\u001b[0m\u001b[0;34m.\u001b[0m\u001b[0m_lock\u001b[0m\u001b[0;34m:\u001b[0m\u001b[0;34m\u001b[0m\u001b[0;34m\u001b[0m\u001b[0m\n\u001b[1;32m    778\u001b[0m             \u001b[0mjob_idx\u001b[0m \u001b[0;34m=\u001b[0m \u001b[0mlen\u001b[0m\u001b[0;34m(\u001b[0m\u001b[0mself\u001b[0m\u001b[0;34m.\u001b[0m\u001b[0m_jobs\u001b[0m\u001b[0;34m)\u001b[0m\u001b[0;34m\u001b[0m\u001b[0;34m\u001b[0m\u001b[0m\n\u001b[0;32m--> 779\u001b[0;31m             \u001b[0mjob\u001b[0m \u001b[0;34m=\u001b[0m \u001b[0mself\u001b[0m\u001b[0;34m.\u001b[0m\u001b[0m_backend\u001b[0m\u001b[0;34m.\u001b[0m\u001b[0mapply_async\u001b[0m\u001b[0;34m(\u001b[0m\u001b[0mbatch\u001b[0m\u001b[0;34m,\u001b[0m \u001b[0mcallback\u001b[0m\u001b[0;34m=\u001b[0m\u001b[0mcb\u001b[0m\u001b[0;34m)\u001b[0m\u001b[0;34m\u001b[0m\u001b[0;34m\u001b[0m\u001b[0m\n\u001b[0m\u001b[1;32m    780\u001b[0m             \u001b[0;31m# A job can complete so quickly than its callback is\u001b[0m\u001b[0;34m\u001b[0m\u001b[0;34m\u001b[0m\u001b[0m\n\u001b[1;32m    781\u001b[0m             \u001b[0;31m# called before we get here, causing self._jobs to\u001b[0m\u001b[0;34m\u001b[0m\u001b[0;34m\u001b[0m\u001b[0m\n",
      "\u001b[0;32m/usr/local/anaconda3/lib/python3.9/site-packages/joblib/_parallel_backends.py\u001b[0m in \u001b[0;36mapply_async\u001b[0;34m(self, func, callback)\u001b[0m\n\u001b[1;32m    206\u001b[0m     \u001b[0;32mdef\u001b[0m \u001b[0mapply_async\u001b[0m\u001b[0;34m(\u001b[0m\u001b[0mself\u001b[0m\u001b[0;34m,\u001b[0m \u001b[0mfunc\u001b[0m\u001b[0;34m,\u001b[0m \u001b[0mcallback\u001b[0m\u001b[0;34m=\u001b[0m\u001b[0;32mNone\u001b[0m\u001b[0;34m)\u001b[0m\u001b[0;34m:\u001b[0m\u001b[0;34m\u001b[0m\u001b[0;34m\u001b[0m\u001b[0m\n\u001b[1;32m    207\u001b[0m         \u001b[0;34m\"\"\"Schedule a func to be run\"\"\"\u001b[0m\u001b[0;34m\u001b[0m\u001b[0;34m\u001b[0m\u001b[0m\n\u001b[0;32m--> 208\u001b[0;31m         \u001b[0mresult\u001b[0m \u001b[0;34m=\u001b[0m \u001b[0mImmediateResult\u001b[0m\u001b[0;34m(\u001b[0m\u001b[0mfunc\u001b[0m\u001b[0;34m)\u001b[0m\u001b[0;34m\u001b[0m\u001b[0;34m\u001b[0m\u001b[0m\n\u001b[0m\u001b[1;32m    209\u001b[0m         \u001b[0;32mif\u001b[0m \u001b[0mcallback\u001b[0m\u001b[0;34m:\u001b[0m\u001b[0;34m\u001b[0m\u001b[0;34m\u001b[0m\u001b[0m\n\u001b[1;32m    210\u001b[0m             \u001b[0mcallback\u001b[0m\u001b[0;34m(\u001b[0m\u001b[0mresult\u001b[0m\u001b[0;34m)\u001b[0m\u001b[0;34m\u001b[0m\u001b[0;34m\u001b[0m\u001b[0m\n",
      "\u001b[0;32m/usr/local/anaconda3/lib/python3.9/site-packages/joblib/_parallel_backends.py\u001b[0m in \u001b[0;36m__init__\u001b[0;34m(self, batch)\u001b[0m\n\u001b[1;32m    570\u001b[0m         \u001b[0;31m# Don't delay the application, to avoid keeping the input\u001b[0m\u001b[0;34m\u001b[0m\u001b[0;34m\u001b[0m\u001b[0m\n\u001b[1;32m    571\u001b[0m         \u001b[0;31m# arguments in memory\u001b[0m\u001b[0;34m\u001b[0m\u001b[0;34m\u001b[0m\u001b[0m\n\u001b[0;32m--> 572\u001b[0;31m         \u001b[0mself\u001b[0m\u001b[0;34m.\u001b[0m\u001b[0mresults\u001b[0m \u001b[0;34m=\u001b[0m \u001b[0mbatch\u001b[0m\u001b[0;34m(\u001b[0m\u001b[0;34m)\u001b[0m\u001b[0;34m\u001b[0m\u001b[0;34m\u001b[0m\u001b[0m\n\u001b[0m\u001b[1;32m    573\u001b[0m \u001b[0;34m\u001b[0m\u001b[0m\n\u001b[1;32m    574\u001b[0m     \u001b[0;32mdef\u001b[0m \u001b[0mget\u001b[0m\u001b[0;34m(\u001b[0m\u001b[0mself\u001b[0m\u001b[0;34m)\u001b[0m\u001b[0;34m:\u001b[0m\u001b[0;34m\u001b[0m\u001b[0;34m\u001b[0m\u001b[0m\n",
      "\u001b[0;32m/usr/local/anaconda3/lib/python3.9/site-packages/joblib/parallel.py\u001b[0m in \u001b[0;36m__call__\u001b[0;34m(self)\u001b[0m\n\u001b[1;32m    260\u001b[0m         \u001b[0;31m# change the default number of processes to -1\u001b[0m\u001b[0;34m\u001b[0m\u001b[0;34m\u001b[0m\u001b[0m\n\u001b[1;32m    261\u001b[0m         \u001b[0;32mwith\u001b[0m \u001b[0mparallel_backend\u001b[0m\u001b[0;34m(\u001b[0m\u001b[0mself\u001b[0m\u001b[0;34m.\u001b[0m\u001b[0m_backend\u001b[0m\u001b[0;34m,\u001b[0m \u001b[0mn_jobs\u001b[0m\u001b[0;34m=\u001b[0m\u001b[0mself\u001b[0m\u001b[0;34m.\u001b[0m\u001b[0m_n_jobs\u001b[0m\u001b[0;34m)\u001b[0m\u001b[0;34m:\u001b[0m\u001b[0;34m\u001b[0m\u001b[0;34m\u001b[0m\u001b[0m\n\u001b[0;32m--> 262\u001b[0;31m             return [func(*args, **kwargs)\n\u001b[0m\u001b[1;32m    263\u001b[0m                     for func, args, kwargs in self.items]\n\u001b[1;32m    264\u001b[0m \u001b[0;34m\u001b[0m\u001b[0m\n",
      "\u001b[0;32m/usr/local/anaconda3/lib/python3.9/site-packages/joblib/parallel.py\u001b[0m in \u001b[0;36m<listcomp>\u001b[0;34m(.0)\u001b[0m\n\u001b[1;32m    260\u001b[0m         \u001b[0;31m# change the default number of processes to -1\u001b[0m\u001b[0;34m\u001b[0m\u001b[0;34m\u001b[0m\u001b[0m\n\u001b[1;32m    261\u001b[0m         \u001b[0;32mwith\u001b[0m \u001b[0mparallel_backend\u001b[0m\u001b[0;34m(\u001b[0m\u001b[0mself\u001b[0m\u001b[0;34m.\u001b[0m\u001b[0m_backend\u001b[0m\u001b[0;34m,\u001b[0m \u001b[0mn_jobs\u001b[0m\u001b[0;34m=\u001b[0m\u001b[0mself\u001b[0m\u001b[0;34m.\u001b[0m\u001b[0m_n_jobs\u001b[0m\u001b[0;34m)\u001b[0m\u001b[0;34m:\u001b[0m\u001b[0;34m\u001b[0m\u001b[0;34m\u001b[0m\u001b[0m\n\u001b[0;32m--> 262\u001b[0;31m             return [func(*args, **kwargs)\n\u001b[0m\u001b[1;32m    263\u001b[0m                     for func, args, kwargs in self.items]\n\u001b[1;32m    264\u001b[0m \u001b[0;34m\u001b[0m\u001b[0m\n",
      "\u001b[0;32m/usr/local/anaconda3/lib/python3.9/site-packages/sklearn/utils/fixes.py\u001b[0m in \u001b[0;36m__call__\u001b[0;34m(self, *args, **kwargs)\u001b[0m\n\u001b[1;32m    220\u001b[0m     \u001b[0;32mdef\u001b[0m \u001b[0m__call__\u001b[0m\u001b[0;34m(\u001b[0m\u001b[0mself\u001b[0m\u001b[0;34m,\u001b[0m \u001b[0;34m*\u001b[0m\u001b[0margs\u001b[0m\u001b[0;34m,\u001b[0m \u001b[0;34m**\u001b[0m\u001b[0mkwargs\u001b[0m\u001b[0;34m)\u001b[0m\u001b[0;34m:\u001b[0m\u001b[0;34m\u001b[0m\u001b[0;34m\u001b[0m\u001b[0m\n\u001b[1;32m    221\u001b[0m         \u001b[0;32mwith\u001b[0m \u001b[0mconfig_context\u001b[0m\u001b[0;34m(\u001b[0m\u001b[0;34m**\u001b[0m\u001b[0mself\u001b[0m\u001b[0;34m.\u001b[0m\u001b[0mconfig\u001b[0m\u001b[0;34m)\u001b[0m\u001b[0;34m:\u001b[0m\u001b[0;34m\u001b[0m\u001b[0;34m\u001b[0m\u001b[0m\n\u001b[0;32m--> 222\u001b[0;31m             \u001b[0;32mreturn\u001b[0m \u001b[0mself\u001b[0m\u001b[0;34m.\u001b[0m\u001b[0mfunction\u001b[0m\u001b[0;34m(\u001b[0m\u001b[0;34m*\u001b[0m\u001b[0margs\u001b[0m\u001b[0;34m,\u001b[0m \u001b[0;34m**\u001b[0m\u001b[0mkwargs\u001b[0m\u001b[0;34m)\u001b[0m\u001b[0;34m\u001b[0m\u001b[0;34m\u001b[0m\u001b[0m\n\u001b[0m",
      "\u001b[0;32m/usr/local/anaconda3/lib/python3.9/site-packages/sklearn/linear_model/_logistic.py\u001b[0m in \u001b[0;36m_logistic_regression_path\u001b[0;34m(X, y, pos_class, Cs, fit_intercept, max_iter, tol, verbose, solver, coef, class_weight, dual, penalty, intercept_scaling, multi_class, random_state, check_input, max_squared_sum, sample_weight, l1_ratio)\u001b[0m\n\u001b[1;32m    664\u001b[0m     \u001b[0mle\u001b[0m \u001b[0;34m=\u001b[0m \u001b[0mLabelEncoder\u001b[0m\u001b[0;34m(\u001b[0m\u001b[0;34m)\u001b[0m\u001b[0;34m\u001b[0m\u001b[0;34m\u001b[0m\u001b[0m\n\u001b[1;32m    665\u001b[0m     \u001b[0;32mif\u001b[0m \u001b[0misinstance\u001b[0m\u001b[0;34m(\u001b[0m\u001b[0mclass_weight\u001b[0m\u001b[0;34m,\u001b[0m \u001b[0mdict\u001b[0m\u001b[0;34m)\u001b[0m \u001b[0;32mor\u001b[0m \u001b[0mmulti_class\u001b[0m \u001b[0;34m==\u001b[0m \u001b[0;34m'multinomial'\u001b[0m\u001b[0;34m:\u001b[0m\u001b[0;34m\u001b[0m\u001b[0;34m\u001b[0m\u001b[0m\n\u001b[0;32m--> 666\u001b[0;31m         class_weight_ = compute_class_weight(class_weight,\n\u001b[0m\u001b[1;32m    667\u001b[0m                                              classes=classes, y=y)\n\u001b[1;32m    668\u001b[0m         \u001b[0msample_weight\u001b[0m \u001b[0;34m*=\u001b[0m \u001b[0mclass_weight_\u001b[0m\u001b[0;34m[\u001b[0m\u001b[0mle\u001b[0m\u001b[0;34m.\u001b[0m\u001b[0mfit_transform\u001b[0m\u001b[0;34m(\u001b[0m\u001b[0my\u001b[0m\u001b[0;34m)\u001b[0m\u001b[0;34m]\u001b[0m\u001b[0;34m\u001b[0m\u001b[0;34m\u001b[0m\u001b[0m\n",
      "\u001b[0;32m/usr/local/anaconda3/lib/python3.9/site-packages/sklearn/utils/validation.py\u001b[0m in \u001b[0;36minner_f\u001b[0;34m(*args, **kwargs)\u001b[0m\n\u001b[1;32m     61\u001b[0m             \u001b[0mextra_args\u001b[0m \u001b[0;34m=\u001b[0m \u001b[0mlen\u001b[0m\u001b[0;34m(\u001b[0m\u001b[0margs\u001b[0m\u001b[0;34m)\u001b[0m \u001b[0;34m-\u001b[0m \u001b[0mlen\u001b[0m\u001b[0;34m(\u001b[0m\u001b[0mall_args\u001b[0m\u001b[0;34m)\u001b[0m\u001b[0;34m\u001b[0m\u001b[0;34m\u001b[0m\u001b[0m\n\u001b[1;32m     62\u001b[0m             \u001b[0;32mif\u001b[0m \u001b[0mextra_args\u001b[0m \u001b[0;34m<=\u001b[0m \u001b[0;36m0\u001b[0m\u001b[0;34m:\u001b[0m\u001b[0;34m\u001b[0m\u001b[0;34m\u001b[0m\u001b[0m\n\u001b[0;32m---> 63\u001b[0;31m                 \u001b[0;32mreturn\u001b[0m \u001b[0mf\u001b[0m\u001b[0;34m(\u001b[0m\u001b[0;34m*\u001b[0m\u001b[0margs\u001b[0m\u001b[0;34m,\u001b[0m \u001b[0;34m**\u001b[0m\u001b[0mkwargs\u001b[0m\u001b[0;34m)\u001b[0m\u001b[0;34m\u001b[0m\u001b[0;34m\u001b[0m\u001b[0m\n\u001b[0m\u001b[1;32m     64\u001b[0m \u001b[0;34m\u001b[0m\u001b[0m\n\u001b[1;32m     65\u001b[0m             \u001b[0;31m# extra_args > 0\u001b[0m\u001b[0;34m\u001b[0m\u001b[0;34m\u001b[0m\u001b[0m\n",
      "\u001b[0;32m/usr/local/anaconda3/lib/python3.9/site-packages/sklearn/utils/class_weight.py\u001b[0m in \u001b[0;36mcompute_class_weight\u001b[0;34m(class_weight, classes, y)\u001b[0m\n\u001b[1;32m     64\u001b[0m                              \" got: %r\" % class_weight)\n\u001b[1;32m     65\u001b[0m         \u001b[0;32mfor\u001b[0m \u001b[0mc\u001b[0m \u001b[0;32min\u001b[0m \u001b[0mclass_weight\u001b[0m\u001b[0;34m:\u001b[0m\u001b[0;34m\u001b[0m\u001b[0;34m\u001b[0m\u001b[0m\n\u001b[0;32m---> 66\u001b[0;31m             \u001b[0mi\u001b[0m \u001b[0;34m=\u001b[0m \u001b[0mnp\u001b[0m\u001b[0;34m.\u001b[0m\u001b[0msearchsorted\u001b[0m\u001b[0;34m(\u001b[0m\u001b[0mclasses\u001b[0m\u001b[0;34m,\u001b[0m \u001b[0mc\u001b[0m\u001b[0;34m)\u001b[0m\u001b[0;34m\u001b[0m\u001b[0;34m\u001b[0m\u001b[0m\n\u001b[0m\u001b[1;32m     67\u001b[0m             \u001b[0;32mif\u001b[0m \u001b[0mi\u001b[0m \u001b[0;34m>=\u001b[0m \u001b[0mlen\u001b[0m\u001b[0;34m(\u001b[0m\u001b[0mclasses\u001b[0m\u001b[0;34m)\u001b[0m \u001b[0;32mor\u001b[0m \u001b[0mclasses\u001b[0m\u001b[0;34m[\u001b[0m\u001b[0mi\u001b[0m\u001b[0;34m]\u001b[0m \u001b[0;34m!=\u001b[0m \u001b[0mc\u001b[0m\u001b[0;34m:\u001b[0m\u001b[0;34m\u001b[0m\u001b[0;34m\u001b[0m\u001b[0m\n\u001b[1;32m     68\u001b[0m                 \u001b[0;32mraise\u001b[0m \u001b[0mValueError\u001b[0m\u001b[0;34m(\u001b[0m\u001b[0;34m\"Class label {} not present.\"\u001b[0m\u001b[0;34m.\u001b[0m\u001b[0mformat\u001b[0m\u001b[0;34m(\u001b[0m\u001b[0mc\u001b[0m\u001b[0;34m)\u001b[0m\u001b[0;34m)\u001b[0m\u001b[0;34m\u001b[0m\u001b[0;34m\u001b[0m\u001b[0m\n",
      "\u001b[0;32m<__array_function__ internals>\u001b[0m in \u001b[0;36msearchsorted\u001b[0;34m(*args, **kwargs)\u001b[0m\n",
      "\u001b[0;32m/usr/local/anaconda3/lib/python3.9/site-packages/numpy/core/fromnumeric.py\u001b[0m in \u001b[0;36msearchsorted\u001b[0;34m(a, v, side, sorter)\u001b[0m\n\u001b[1;32m   1346\u001b[0m \u001b[0;34m\u001b[0m\u001b[0m\n\u001b[1;32m   1347\u001b[0m     \"\"\"\n\u001b[0;32m-> 1348\u001b[0;31m     \u001b[0;32mreturn\u001b[0m \u001b[0m_wrapfunc\u001b[0m\u001b[0;34m(\u001b[0m\u001b[0ma\u001b[0m\u001b[0;34m,\u001b[0m \u001b[0;34m'searchsorted'\u001b[0m\u001b[0;34m,\u001b[0m \u001b[0mv\u001b[0m\u001b[0;34m,\u001b[0m \u001b[0mside\u001b[0m\u001b[0;34m=\u001b[0m\u001b[0mside\u001b[0m\u001b[0;34m,\u001b[0m \u001b[0msorter\u001b[0m\u001b[0;34m=\u001b[0m\u001b[0msorter\u001b[0m\u001b[0;34m)\u001b[0m\u001b[0;34m\u001b[0m\u001b[0;34m\u001b[0m\u001b[0m\n\u001b[0m\u001b[1;32m   1349\u001b[0m \u001b[0;34m\u001b[0m\u001b[0m\n\u001b[1;32m   1350\u001b[0m \u001b[0;34m\u001b[0m\u001b[0m\n",
      "\u001b[0;32m/usr/local/anaconda3/lib/python3.9/site-packages/numpy/core/fromnumeric.py\u001b[0m in \u001b[0;36m_wrapfunc\u001b[0;34m(obj, method, *args, **kwds)\u001b[0m\n\u001b[1;32m     65\u001b[0m         \u001b[0;31m# Call _wrapit from within the except clause to ensure a potential\u001b[0m\u001b[0;34m\u001b[0m\u001b[0;34m\u001b[0m\u001b[0m\n\u001b[1;32m     66\u001b[0m         \u001b[0;31m# exception has a traceback chain.\u001b[0m\u001b[0;34m\u001b[0m\u001b[0;34m\u001b[0m\u001b[0m\n\u001b[0;32m---> 67\u001b[0;31m         \u001b[0;32mreturn\u001b[0m \u001b[0m_wrapit\u001b[0m\u001b[0;34m(\u001b[0m\u001b[0mobj\u001b[0m\u001b[0;34m,\u001b[0m \u001b[0mmethod\u001b[0m\u001b[0;34m,\u001b[0m \u001b[0;34m*\u001b[0m\u001b[0margs\u001b[0m\u001b[0;34m,\u001b[0m \u001b[0;34m**\u001b[0m\u001b[0mkwds\u001b[0m\u001b[0;34m)\u001b[0m\u001b[0;34m\u001b[0m\u001b[0;34m\u001b[0m\u001b[0m\n\u001b[0m\u001b[1;32m     68\u001b[0m \u001b[0;34m\u001b[0m\u001b[0m\n\u001b[1;32m     69\u001b[0m \u001b[0;34m\u001b[0m\u001b[0m\n",
      "\u001b[0;32m/usr/local/anaconda3/lib/python3.9/site-packages/numpy/core/fromnumeric.py\u001b[0m in \u001b[0;36m_wrapit\u001b[0;34m(obj, method, *args, **kwds)\u001b[0m\n\u001b[1;32m     42\u001b[0m     \u001b[0;32mexcept\u001b[0m \u001b[0mAttributeError\u001b[0m\u001b[0;34m:\u001b[0m\u001b[0;34m\u001b[0m\u001b[0;34m\u001b[0m\u001b[0m\n\u001b[1;32m     43\u001b[0m         \u001b[0mwrap\u001b[0m \u001b[0;34m=\u001b[0m \u001b[0;32mNone\u001b[0m\u001b[0;34m\u001b[0m\u001b[0;34m\u001b[0m\u001b[0m\n\u001b[0;32m---> 44\u001b[0;31m     \u001b[0mresult\u001b[0m \u001b[0;34m=\u001b[0m \u001b[0mgetattr\u001b[0m\u001b[0;34m(\u001b[0m\u001b[0masarray\u001b[0m\u001b[0;34m(\u001b[0m\u001b[0mobj\u001b[0m\u001b[0;34m)\u001b[0m\u001b[0;34m,\u001b[0m \u001b[0mmethod\u001b[0m\u001b[0;34m)\u001b[0m\u001b[0;34m(\u001b[0m\u001b[0;34m*\u001b[0m\u001b[0margs\u001b[0m\u001b[0;34m,\u001b[0m \u001b[0;34m**\u001b[0m\u001b[0mkwds\u001b[0m\u001b[0;34m)\u001b[0m\u001b[0;34m\u001b[0m\u001b[0;34m\u001b[0m\u001b[0m\n\u001b[0m\u001b[1;32m     45\u001b[0m     \u001b[0;32mif\u001b[0m \u001b[0mwrap\u001b[0m\u001b[0;34m:\u001b[0m\u001b[0;34m\u001b[0m\u001b[0;34m\u001b[0m\u001b[0m\n\u001b[1;32m     46\u001b[0m         \u001b[0;32mif\u001b[0m \u001b[0;32mnot\u001b[0m \u001b[0misinstance\u001b[0m\u001b[0;34m(\u001b[0m\u001b[0mresult\u001b[0m\u001b[0;34m,\u001b[0m \u001b[0mmu\u001b[0m\u001b[0;34m.\u001b[0m\u001b[0mndarray\u001b[0m\u001b[0;34m)\u001b[0m\u001b[0;34m:\u001b[0m\u001b[0;34m\u001b[0m\u001b[0;34m\u001b[0m\u001b[0m\n",
      "\u001b[0;31mTypeError\u001b[0m: '<' not supported between instances of 'str' and 'int'"
     ]
    }
   ],
   "source": [
    "# from sklearn.linear_model import LogisticRegression\n",
    "logreg = LogisticRegression(C=1, class_weight={0:1, 1:99}, random_state=123, intercept_scaling=1, solver='lbfgs')\n",
    "# Fit the model to our X and y training sets\n",
    "logreg.fit(X_train, y_train)\n",
    "\n",
    "print('Coefficient: \\n', logit.coef_)\n",
    "print('Intercept: \\n', logit.intercept_)\n"
   ]
  },
  {
   "cell_type": "code",
   "execution_count": 158,
   "id": "4c5884dd",
   "metadata": {},
   "outputs": [],
   "source": [
    "# Decision Tree\n",
    "model_1 = DecisionTreeClassifier(criterion = 'entropy', max_depth = 6, min_samples_leaf = 1, min_samples_split = 30)\n",
    "model_1.fit(X_train, y_train) "
   ]
  },
  {
   "cell_type": "code",
   "execution_count": null,
   "id": "0a0e62b5",
   "metadata": {},
   "outputs": [],
   "source": [
    "#training and validate score, I want them to be better than the baseline and close to each other so I'm not overfitting\n",
    "print(f'training score: {model_1.score(X_train, y_train):.2%}')\n",
    "print(f'validate score: {model_1.score(X_validate, y_validate):.2%}')"
   ]
  },
  {
   "cell_type": "code",
   "execution_count": null,
   "id": "23b5b247",
   "metadata": {},
   "outputs": [],
   "source": [
    "y_pred_model_1 = y_pred = model_1.predict(X_train)"
   ]
  },
  {
   "cell_type": "code",
   "execution_count": null,
   "id": "46c0f409",
   "metadata": {},
   "outputs": [],
   "source": [
    "# Random Forest\n",
    "model_2 = RandomForestClassifier(max_depth = 5, random_state = 123)\n",
    "model_2.fit(X_train, y_train)\n",
    "\n",
    "y_pred_model_2 = y_pred2 = model_2.predict(X_train)\n",
    "pd.Series(y_pred_model_2).value_counts()"
   ]
  },
  {
   "cell_type": "code",
   "execution_count": null,
   "id": "129131e9",
   "metadata": {},
   "outputs": [],
   "source": [
    "#training and validate score, I want them to be better than the baseline and close to each other so I'm not overfitting\n",
    "print(f'training score: {model_2.score(X_train, y_train):.2%}')\n",
    "print(f'validate score: {model_2.score(X_validate, y_validate):.2%}')"
   ]
  },
  {
   "cell_type": "code",
   "execution_count": null,
   "id": "499e8811",
   "metadata": {},
   "outputs": [],
   "source": [
    "print(f'{model_metrics(X_train, y_train, y_pred2)}')\n",
    "print(f'accuracy score is {round(accuracy_score(y_train, y_pred2),2)}')"
   ]
  },
  {
   "cell_type": "code",
   "execution_count": null,
   "id": "eef11f7f",
   "metadata": {},
   "outputs": [],
   "source": [
    "# K-Nearest Neighbors\n",
    "model_3 = KNeighborsClassifier(n_neighbors = 7, weights = 'uniform')\n",
    "model_3.fit(X_train, y_train)"
   ]
  },
  {
   "cell_type": "code",
   "execution_count": null,
   "id": "411dffcc",
   "metadata": {},
   "outputs": [],
   "source": [
    "y_pred_model_3 = y_pred3 = model_3.predict(X_train)\n",
    "pd.Series(y_pred_model_3).value_counts()"
   ]
  },
  {
   "cell_type": "code",
   "execution_count": null,
   "id": "72f19206",
   "metadata": {},
   "outputs": [],
   "source": [
    "print(f'{model_metrics(X_train, y_train, y_pred3)}')\n",
    "print(f'accuracy score is {round(accuracy_score(y_train, y_pred3),2)}')"
   ]
  }
 ],
 "metadata": {
  "kernelspec": {
   "display_name": "Python 3 (ipykernel)",
   "language": "python",
   "name": "python3"
  },
  "language_info": {
   "codemirror_mode": {
    "name": "ipython",
    "version": 3
   },
   "file_extension": ".py",
   "mimetype": "text/x-python",
   "name": "python",
   "nbconvert_exporter": "python",
   "pygments_lexer": "ipython3",
   "version": "3.9.7"
  }
 },
 "nbformat": 4,
 "nbformat_minor": 5
}
